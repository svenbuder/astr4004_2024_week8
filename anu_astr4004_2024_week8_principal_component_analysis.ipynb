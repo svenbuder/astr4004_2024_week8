{
 "cells": [
  {
   "cell_type": "markdown",
   "id": "3c5366df",
   "metadata": {},
   "source": [
    "# ANU ASTR4004 2024 - Week 8 (24+26 September 2024)\n",
    "\n",
    "Author: Dr Sven Buder (sven.buder@anu.edu.au)"
   ]
  },
  {
   "cell_type": "markdown",
   "id": "2a203675",
   "metadata": {
    "toc": true
   },
   "source": [
    "<h1>Table of Contents<span class=\"tocSkip\"></span></h1>\n",
    "<div class=\"toc\"><ul class=\"toc-item\"><li><span><a href=\"#Dimensionality-Reduction\" data-toc-modified-id=\"Dimensionality-Reduction-1\"><span class=\"toc-item-num\">1&nbsp;&nbsp;</span>Dimensionality Reduction</a></span></li><li><span><a href=\"#sklearn\" data-toc-modified-id=\"sklearn-2\"><span class=\"toc-item-num\">2&nbsp;&nbsp;</span>sklearn</a></span><ul class=\"toc-item\"><li><span><a href=\"#sklearn.tree\" data-toc-modified-id=\"sklearn.tree-2.1\"><span class=\"toc-item-num\">2.1&nbsp;&nbsp;</span>sklearn.tree</a></span></li><li><span><a href=\"#sklearn.neighbors\" data-toc-modified-id=\"sklearn.neighbors-2.2\"><span class=\"toc-item-num\">2.2&nbsp;&nbsp;</span>sklearn.neighbors</a></span></li></ul></li></ul></div>"
   ]
  },
  {
   "cell_type": "code",
   "execution_count": 1,
   "id": "a44ccb03",
   "metadata": {},
   "outputs": [],
   "source": [
    "try:\n",
    "    %matplotlib inline\n",
    "    %config InlineBackend.figure_format='retina'\n",
    "except:\n",
    "    pass\n",
    "\n",
    "import numpy as np\n",
    "import matplotlib.pyplot as plt\n",
    "import matplotlib\n",
    "from matplotlib import patches\n",
    "\n",
    "# Make the size and fonts larger for this presentation\n",
    "plt.rcParams['font.size'] = 15\n",
    "plt.rcParams['legend.fontsize'] = 12"
   ]
  },
  {
   "cell_type": "markdown",
   "id": "6234cc44",
   "metadata": {},
   "source": [
    "## Dimensionality Reduction"
   ]
  },
  {
   "cell_type": "code",
   "execution_count": null,
   "id": "1bf8537d",
   "metadata": {},
   "outputs": [],
   "source": [
    "DimensionalityReduction_Spectra_Images.ipynb\n",
    "Images.tar"
   ]
  },
  {
   "cell_type": "markdown",
   "id": "16eda9b4",
   "metadata": {},
   "source": [
    "## sklearn"
   ]
  },
  {
   "cell_type": "code",
   "execution_count": null,
   "id": "04d6aad6",
   "metadata": {},
   "outputs": [],
   "source": [
    "import pandas as pd\n",
    "from scipy import stats\n",
    "\n",
    "# https://exoplanet.eu/catalog/csv/  \n",
    "LearningSet = pd.read_csv('data/phl_exoplanet_catalog.csv', sep = ',')\n",
    "LearningSet.head()"
   ]
  },
  {
   "cell_type": "code",
   "execution_count": null,
   "id": "24aa2b10",
   "metadata": {
    "scrolled": false
   },
   "outputs": [],
   "source": [
    "final_features = LearningSet[['S_MASS', 'P_PERIOD', 'P_DISTANCE']]\n",
    "\n",
    "targets = np.array(LearningSet['P_HABITABLE'],dtype=int)\n",
    "targets[targets > 1] = 1\n",
    "\n",
    "# gets rid of any instance with at least one NaN in any column\n",
    "final_features = final_features.dropna(axis = 0)\n",
    "\n",
    "# elimate 5-sigma outliers\n",
    "final_features = final_features[(np.abs(stats.zscore(final_features)) < 5).all(axis=1)] \n",
    "\n",
    "# apply this selection onto targets as well\n",
    "targets = targets[final_features.index]\n",
    "\n",
    "# reset indices\n",
    "final_features = final_features.reset_index(drop=True)\n",
    "\n",
    "final_features.describe()"
   ]
  },
  {
   "cell_type": "code",
   "execution_count": null,
   "id": "cc1bebaf",
   "metadata": {},
   "outputs": [],
   "source": [
    "plt.figure(figsize=(10,6))\n",
    "\n",
    "cmap = matplotlib.colors.LinearSegmentedColormap.from_list(\"\", ['#20B2AA','#FF00FF'])\n",
    "\n",
    "a = plt.scatter(final_features['S_MASS'], final_features['P_PERIOD'], marker = 'o',\\\n",
    "            c = targets, s = 50, cmap=cmap, label = 'Test')\n",
    "\n",
    "plt.legend();\n",
    "\n",
    "plt.yscale('log')\n",
    "plt.xlabel('Mass of Parent Star (Solar Mass Units)')\n",
    "plt.ylabel('Period of Orbit (days)');\n",
    "\n",
    "bluepatch = patches.Patch(color='#20B2AA', label='Not Habitable')\n",
    "magentapatch = patches.Patch(color='#FF00FF', label='Habitable')\n",
    "\n",
    "ax = plt.gca()\n",
    "leg = ax.get_legend()\n",
    "\n",
    "plt.legend(handles=[magentapatch, bluepatch],\\\n",
    "           loc = 'lower right', fontsize = 14);"
   ]
  },
  {
   "cell_type": "code",
   "execution_count": null,
   "id": "ca2b3e18",
   "metadata": {},
   "outputs": [],
   "source": [
    "# Select a training and test set:\n",
    "from sklearn.model_selection import train_test_split\n",
    "\n",
    "Xtrain, Xtest, ytrain, ytest = train_test_split(final_features, targets, random_state=2)\n",
    "Xtrain.shape, Xtest.shape # by default 0.75:0.25\n",
    "\n",
    "# We are now ready to fit the data with different models"
   ]
  },
  {
   "cell_type": "markdown",
   "id": "2b7a2de5",
   "metadata": {},
   "source": [
    "### sklearn.tree"
   ]
  },
  {
   "cell_type": "code",
   "execution_count": null,
   "id": "a4db3930",
   "metadata": {},
   "outputs": [],
   "source": [
    "from sklearn.tree import DecisionTreeClassifier\n",
    "from sklearn import metrics"
   ]
  },
  {
   "cell_type": "code",
   "execution_count": null,
   "id": "c1676f17",
   "metadata": {},
   "outputs": [],
   "source": [
    "#This is how we specify which method we'd like to use, and any parameters.\n",
    "model = DecisionTreeClassifier(random_state = 3)\n",
    "\n",
    "#This tiny line is how we build models in sklearn.\n",
    "model.fit(Xtrain, ytrain) \n",
    "\n",
    "# How accurate is this model?\n",
    "print(metrics.accuracy_score(ytrain, model.predict(Xtrain))) #train score\n",
    "print(metrics.accuracy_score(ytest, model.predict(Xtest))) #test score"
   ]
  },
  {
   "cell_type": "code",
   "execution_count": null,
   "id": "f1480014",
   "metadata": {},
   "outputs": [],
   "source": [
    "# This looks pretty high, but how does it compare with the accuracy of a lazy classifier that places everything in the \"not habitable\" category?\n",
    "print(metrics.accuracy_score(ytest, np.zeros(len(ytest)))) #performance of a dummy classifier"
   ]
  },
  {
   "cell_type": "code",
   "execution_count": null,
   "id": "6de8b057",
   "metadata": {},
   "outputs": [],
   "source": [
    "def plot_confusion_matrix(cm, classes,\n",
    "                          normalize=False,\n",
    "                          title='Confusion matrix',\n",
    "                          cmap=plt.cm.Blues):\n",
    "    \"\"\"\n",
    "    This function prints and plots the confusion matrix.\n",
    "    Normalization can be applied by setting `normalize=True`.\n",
    "    \"\"\"\n",
    "    if normalize:\n",
    "        cm = cm.astype('float') / cm.sum(axis=1)[:, np.newaxis]\n",
    "        print(\"Normalized confusion matrix\")\n",
    "    else:\n",
    "        print('Confusion matrix, without normalization')\n",
    "\n",
    "    plt.figure(figsize=(7,6))\n",
    "    print(cm)\n",
    "    plt.imshow(cm, interpolation='nearest', cmap=cmap)\n",
    "    plt.title(title)\n",
    "    plt.colorbar()\n",
    "    tick_marks = np.arange(len(classes))\n",
    "    plt.xticks(tick_marks, classes, rotation=45)\n",
    "    plt.yticks(tick_marks, classes)\n",
    "\n",
    "    fmt = '.2f' if normalize else 'd'\n",
    "    thresh = cm.max() / 2.\n",
    "    for i in range(cm.shape[0]):\n",
    "        for j in range(cm.shape[1]):\n",
    "            plt.text(j, i, format(cm[i, j], fmt),\n",
    "                 horizontalalignment=\"center\", verticalalignment=\"center\",\n",
    "                 color=\"green\" if i == j else \"red\", fontsize = 30)\n",
    "\n",
    "    plt.tight_layout()\n",
    "    plt.ylabel('True label')\n",
    "    plt.xlabel('Predicted label')\n",
    "    \n",
    "cm = metrics.confusion_matrix(ytest,model.predict(Xtest))\n",
    "\n",
    "plot_confusion_matrix(cm, ['Not Hab','Hab'], cmap = plt.cm.Pastel2)"
   ]
  },
  {
   "cell_type": "markdown",
   "id": "ba4c8ed9",
   "metadata": {},
   "source": [
    "### sklearn.neighbors"
   ]
  },
  {
   "cell_type": "code",
   "execution_count": null,
   "id": "1289ee91",
   "metadata": {},
   "outputs": [],
   "source": [
    "from sklearn import neighbors"
   ]
  },
  {
   "cell_type": "code",
   "execution_count": null,
   "id": "0312dd08",
   "metadata": {},
   "outputs": [],
   "source": [
    "model = neighbors.KNeighborsClassifier(n_neighbors = 3)\n",
    "model"
   ]
  },
  {
   "cell_type": "code",
   "execution_count": null,
   "id": "c77bce28",
   "metadata": {},
   "outputs": [],
   "source": [
    "# fit and predict:\n",
    "model.fit(Xtrain.iloc[:,:2],ytrain) #this fits the model, which can then be used to predict labels for new instances\n",
    "ytestpred = model.predict(Xtest.iloc[:,:2]) #this uses the fitted model to predict the labels for the 5 objects in test set"
   ]
  },
  {
   "cell_type": "code",
   "execution_count": null,
   "id": "e8ef18e5",
   "metadata": {},
   "outputs": [],
   "source": [
    "# Calculate the accuracy:\n",
    "\n",
    "#This compares the true labels for the train set with the predicted labels for the train set:\n",
    "print(metrics.accuracy_score(ytrain, model.predict(Xtrain.iloc[:,:2])))\n",
    "\n",
    "#This compares the true labels for the test set with the predicted labels for the test set (same that we did above):\n",
    "print(metrics.accuracy_score(ytest, model.predict(Xtest.iloc[:,:2])))"
   ]
  },
  {
   "cell_type": "code",
   "execution_count": null,
   "id": "6d6f5023",
   "metadata": {},
   "outputs": [],
   "source": [
    "model.kneighbors(Xtest.iloc[:,:2]) #the first element gives the distances, the second the index of each neighbor"
   ]
  },
  {
   "cell_type": "code",
   "execution_count": null,
   "id": "587213ab",
   "metadata": {},
   "outputs": [],
   "source": []
  }
 ],
 "metadata": {
  "kernelspec": {
   "display_name": "Python 3 (ipykernel)",
   "language": "python",
   "name": "python3"
  },
  "language_info": {
   "codemirror_mode": {
    "name": "ipython",
    "version": 3
   },
   "file_extension": ".py",
   "mimetype": "text/x-python",
   "name": "python",
   "nbconvert_exporter": "python",
   "pygments_lexer": "ipython3",
   "version": "3.9.12"
  },
  "toc": {
   "base_numbering": 1,
   "nav_menu": {},
   "number_sections": true,
   "sideBar": true,
   "skip_h1_title": true,
   "title_cell": "Table of Contents",
   "title_sidebar": "Contents",
   "toc_cell": true,
   "toc_position": {
    "height": "calc(100% - 180px)",
    "left": "10px",
    "top": "150px",
    "width": "345.59375px"
   },
   "toc_section_display": true,
   "toc_window_display": true
  }
 },
 "nbformat": 4,
 "nbformat_minor": 5
}
